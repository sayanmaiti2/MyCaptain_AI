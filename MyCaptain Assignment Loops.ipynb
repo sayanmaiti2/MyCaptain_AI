{
 "cells": [
  {
   "cell_type": "code",
   "execution_count": 5,
   "metadata": {},
   "outputs": [
    {
     "name": "stdout",
     "output_type": "stream",
     "text": [
      "[12, 5, 64]\n",
      "[12, 14, 3]\n"
     ]
    }
   ],
   "source": [
    "def checkPositive(inputList):\n",
    "    outputList = []\n",
    "    for i in range(len(inputList)):\n",
    "        if (inputList[i]>0):\n",
    "            outputList.append(inputList[i])\n",
    "    print(outputList)\n",
    "    \n",
    "list1 = [12,-7,5,64,-14]\n",
    "checkPositive(list1)\n",
    "\n",
    "list2 = [12,14,-95,3]\n",
    "checkPositive(list2)"
   ]
  },
  {
   "cell_type": "code",
   "execution_count": null,
   "metadata": {},
   "outputs": [],
   "source": []
  }
 ],
 "metadata": {
  "kernelspec": {
   "display_name": "Python 3",
   "language": "python",
   "name": "python3"
  },
  "language_info": {
   "codemirror_mode": {
    "name": "ipython",
    "version": 3
   },
   "file_extension": ".py",
   "mimetype": "text/x-python",
   "name": "python",
   "nbconvert_exporter": "python",
   "pygments_lexer": "ipython3",
   "version": "3.7.6"
  }
 },
 "nbformat": 4,
 "nbformat_minor": 4
}
