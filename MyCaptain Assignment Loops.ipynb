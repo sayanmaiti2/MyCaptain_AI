def checkPositive(inputList):
    outputList = []
    for i in range(len(inputList)):
        if (inputList[i]>0):
            outputList.append(inputList[i])
    print(outputList)
    
list1 = [12,-7,5,64,-14]
checkPositive(list1)

list2 = [12,14,-95,3]
checkPositive(list2)
