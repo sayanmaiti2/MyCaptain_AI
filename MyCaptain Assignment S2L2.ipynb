{
 "cells": [
  {
   "cell_type": "code",
   "execution_count": 16,
   "metadata": {},
   "outputs": [
    {
     "name": "stdout",
     "output_type": "stream",
     "text": [
      "[0, 2, 4, 6, 8, 10]\n",
      "['Facebook', 'Amazon', 'Netflix', 'Google', [0, 2, 4, 6, 8, 10]]\n"
     ]
    }
   ],
   "source": [
    "# Assigning elements to different lists\n",
    "\n",
    "list = []\n",
    "\n",
    "for i in range(0,11,2):\n",
    "    list.append(i)\n",
    "\n",
    "print(list)\n",
    "\n",
    "list2 = ['Facebook','Amazon','Netflix','Google']\n",
    "list2.append(list)\n",
    "print(list2)"
   ]
  },
  {
   "cell_type": "code",
   "execution_count": 14,
   "metadata": {},
   "outputs": [
    {
     "name": "stdout",
     "output_type": "stream",
     "text": [
      "physics\n",
      "chemistry\n",
      "mathematics\n",
      "biology\n",
      "mathematics\n"
     ]
    }
   ],
   "source": [
    "# Accessing elements from a tuple\n",
    "\n",
    "tup = ('physics', 'chemistry', 'mathematics', 'biology');\n",
    "\n",
    "for i in tup:\n",
    "    print(i)\n",
    "\n",
    "print(tup[2])"
   ]
  },
  {
   "cell_type": "code",
   "execution_count": 33,
   "metadata": {},
   "outputs": [
    {
     "name": "stdout",
     "output_type": "stream",
     "text": [
      "{'Name': 'Lin Dan', 'Nationality': 'Chinese', 'Date of Birth': '14 October, 1983', 'Age': 36, 'Sports': 'Badminton', 'Sponsorship': 'Yonex', 'Handedness': 'Left'}\n"
     ]
    }
   ],
   "source": [
    "# Deleting different dictionary elements\n",
    "\n",
    "dict = {\n",
    "    \"Name\": \"Lin Dan\",\n",
    "    \"Nationality\" : \"Chinese\",\n",
    "    \"Date of Birth\": \"14 October, 1983\",\n",
    "    \"Age\":36, \n",
    "    \"Sports\": \"Badminton\",\n",
    "    \"Sponsorship\": \"Yonex\",\n",
    "    \"Handedness\" : \"Left\",\n",
    "    \"Coach\": \"Xia Xianze\",\n",
    "}\n",
    "\n",
    "dict.pop(\"Coach\")\n",
    "\n",
    "print(dict)"
   ]
  }
 ],
 "metadata": {
  "kernelspec": {
   "display_name": "Python 3",
   "language": "python",
   "name": "python3"
  },
  "language_info": {
   "codemirror_mode": {
    "name": "ipython",
    "version": 3
   },
   "file_extension": ".py",
   "mimetype": "text/x-python",
   "name": "python",
   "nbconvert_exporter": "python",
   "pygments_lexer": "ipython3",
   "version": "3.7.6"
  }
 },
 "nbformat": 4,
 "nbformat_minor": 4
}
